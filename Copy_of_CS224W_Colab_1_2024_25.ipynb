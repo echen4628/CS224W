{
  "nbformat": 4,
  "nbformat_minor": 0,
  "metadata": {
    "kernelspec": {
      "display_name": "Python 3",
      "language": "python",
      "name": "python3"
    },
    "language_info": {
      "codemirror_mode": {
        "name": "ipython",
        "version": 3
      },
      "file_extension": ".py",
      "mimetype": "text/x-python",
      "name": "python",
      "nbconvert_exporter": "python",
      "pygments_lexer": "ipython3",
      "version": "3.7.3"
    },
    "colab": {
      "provenance": [],
      "machine_shape": "hm",
      "include_colab_link": true
    }
  },
  "cells": [
    {
      "cell_type": "markdown",
      "metadata": {
        "id": "view-in-github",
        "colab_type": "text"
      },
      "source": [
        "<a href=\"https://colab.research.google.com/github/echen4628/CS224W/blob/main/Copy_of_CS224W_Colab_1_2024_25.ipynb\" target=\"_parent\"><img src=\"https://colab.research.google.com/assets/colab-badge.svg\" alt=\"Open In Colab\"/></a>"
      ]
    },
    {
      "cell_type": "markdown",
      "metadata": {
        "id": "XuXWJLEm2UWS"
      },
      "source": [
        "# **CS224W - Colab 1**"
      ]
    },
    {
      "cell_type": "markdown",
      "metadata": {
        "id": "8gzsP50bF6Gb"
      },
      "source": [
        "In this Colab, we will write a full pipeline for **learning node embeddings**.\n",
        "We will go through the following 3 steps.\n",
        "\n",
        "To start, we will load a classic graph in network science, the [Karate Club Network](https://en.wikipedia.org/wiki/Zachary%27s_karate_club). We will explore multiple graph statistics for that graph.\n",
        "\n",
        "We will then work together to transform the graph structure into a PyTorch tensor, so that we can perform machine learning over the graph.\n",
        "\n",
        "Finally, we will finish the first learning algorithm on graphs: a node embedding model. For simplicity, our model here is simpler than DeepWalk / node2vec algorithms taught in the lecture. But it's still rewarding and challenging, as we will write it from scratch via PyTorch.\n",
        "\n",
        "Now let's get started! This Colab should take 1-2 hours to complete.\n",
        "\n",
        "**Note**: Make sure to **restart and run all** before submission, so that the intermediate variables / packages will carry over to the next cell"
      ]
    },
    {
      "cell_type": "markdown",
      "metadata": {
        "id": "Nwwq0nSdmsOL"
      },
      "source": [
        "# 1 Graph Basics\n",
        "To start, we will load a classic graph in network science, the [Karate Club Network](https://en.wikipedia.org/wiki/Zachary%27s_karate_club). We will explore multiple graph statistics for that graph."
      ]
    },
    {
      "cell_type": "markdown",
      "metadata": {
        "id": "FDkpByYYfSzb"
      },
      "source": [
        "## Setup\n",
        "We will heavily use NetworkX in this Colab."
      ]
    },
    {
      "cell_type": "code",
      "metadata": {
        "id": "VWPkJjPAfVNW"
      },
      "source": [
        "import networkx as nx"
      ],
      "execution_count": 1,
      "outputs": []
    },
    {
      "cell_type": "markdown",
      "metadata": {
        "id": "VqUnYT5qUZYh"
      },
      "source": [
        "## Zachary's karate club network\n",
        "\n",
        "The [Karate Club Network](https://en.wikipedia.org/wiki/Zachary%27s_karate_club) is a graph which describes a social network of 34 members of a karate club and documents links between members who interacted outside the club."
      ]
    },
    {
      "cell_type": "code",
      "metadata": {
        "id": "VIETqEfrfy5Y",
        "colab": {
          "base_uri": "https://localhost:8080/",
          "height": 186
        },
        "outputId": "763b709e-7745-4270-cb77-baad66f4d290"
      },
      "source": [
        "G = nx.karate_club_graph()\n",
        "\n",
        "# G is an undirected graph\n",
        "type(G)"
      ],
      "execution_count": 2,
      "outputs": [
        {
          "output_type": "execute_result",
          "data": {
            "text/plain": [
              "networkx.classes.graph.Graph"
            ],
            "text/html": [
              "<div style=\"max-width:800px; border: 1px solid var(--colab-border-color);\"><style>\n",
              "      pre.function-repr-contents {\n",
              "        overflow-x: auto;\n",
              "        padding: 8px 12px;\n",
              "        max-height: 500px;\n",
              "      }\n",
              "\n",
              "      pre.function-repr-contents.function-repr-contents-collapsed {\n",
              "        cursor: pointer;\n",
              "        max-height: 100px;\n",
              "      }\n",
              "    </style>\n",
              "    <pre style=\"white-space: initial; background:\n",
              "         var(--colab-secondary-surface-color); padding: 8px 12px;\n",
              "         border-bottom: 1px solid var(--colab-border-color);\"><b>networkx.classes.graph.Graph</b><br/>def __init__(incoming_graph_data=None, **attr)</pre><pre class=\"function-repr-contents function-repr-contents-collapsed\" style=\"\"><a class=\"filepath\" style=\"display:none\" href=\"#\">/usr/local/lib/python3.10/dist-packages/networkx/classes/graph.py</a>Base class for undirected graphs.\n",
              "\n",
              "A Graph stores nodes and edges with optional data, or attributes.\n",
              "\n",
              "Graphs hold undirected edges.  Self loops are allowed but multiple\n",
              "(parallel) edges are not.\n",
              "\n",
              "Nodes can be arbitrary (hashable) Python objects with optional\n",
              "key/value attributes, except that `None` is not allowed as a node.\n",
              "\n",
              "Edges are represented as links between nodes with optional\n",
              "key/value attributes.\n",
              "\n",
              "Parameters\n",
              "----------\n",
              "incoming_graph_data : input graph (optional, default: None)\n",
              "    Data to initialize graph. If None (default) an empty\n",
              "    graph is created.  The data can be any format that is supported\n",
              "    by the to_networkx_graph() function, currently including edge list,\n",
              "    dict of dicts, dict of lists, NetworkX graph, 2D NumPy array, SciPy\n",
              "    sparse matrix, or PyGraphviz graph.\n",
              "\n",
              "attr : keyword arguments, optional (default= no attributes)\n",
              "    Attributes to add to graph as key=value pairs.\n",
              "\n",
              "See Also\n",
              "--------\n",
              "DiGraph\n",
              "MultiGraph\n",
              "MultiDiGraph\n",
              "\n",
              "Examples\n",
              "--------\n",
              "Create an empty graph structure (a &quot;null graph&quot;) with no nodes and\n",
              "no edges.\n",
              "\n",
              "&gt;&gt;&gt; G = nx.Graph()\n",
              "\n",
              "G can be grown in several ways.\n",
              "\n",
              "**Nodes:**\n",
              "\n",
              "Add one node at a time:\n",
              "\n",
              "&gt;&gt;&gt; G.add_node(1)\n",
              "\n",
              "Add the nodes from any container (a list, dict, set or\n",
              "even the lines from a file or the nodes from another graph).\n",
              "\n",
              "&gt;&gt;&gt; G.add_nodes_from([2, 3])\n",
              "&gt;&gt;&gt; G.add_nodes_from(range(100, 110))\n",
              "&gt;&gt;&gt; H = nx.path_graph(10)\n",
              "&gt;&gt;&gt; G.add_nodes_from(H)\n",
              "\n",
              "In addition to strings and integers any hashable Python object\n",
              "(except None) can represent a node, e.g. a customized node object,\n",
              "or even another Graph.\n",
              "\n",
              "&gt;&gt;&gt; G.add_node(H)\n",
              "\n",
              "**Edges:**\n",
              "\n",
              "G can also be grown by adding edges.\n",
              "\n",
              "Add one edge,\n",
              "\n",
              "&gt;&gt;&gt; G.add_edge(1, 2)\n",
              "\n",
              "a list of edges,\n",
              "\n",
              "&gt;&gt;&gt; G.add_edges_from([(1, 2), (1, 3)])\n",
              "\n",
              "or a collection of edges,\n",
              "\n",
              "&gt;&gt;&gt; G.add_edges_from(H.edges)\n",
              "\n",
              "If some edges connect nodes not yet in the graph, the nodes\n",
              "are added automatically.  There are no errors when adding\n",
              "nodes or edges that already exist.\n",
              "\n",
              "**Attributes:**\n",
              "\n",
              "Each graph, node, and edge can hold key/value attribute pairs\n",
              "in an associated attribute dictionary (the keys must be hashable).\n",
              "By default these are empty, but can be added or changed using\n",
              "add_edge, add_node or direct manipulation of the attribute\n",
              "dictionaries named graph, node and edge respectively.\n",
              "\n",
              "&gt;&gt;&gt; G = nx.Graph(day=&quot;Friday&quot;)\n",
              "&gt;&gt;&gt; G.graph\n",
              "{&#x27;day&#x27;: &#x27;Friday&#x27;}\n",
              "\n",
              "Add node attributes using add_node(), add_nodes_from() or G.nodes\n",
              "\n",
              "&gt;&gt;&gt; G.add_node(1, time=&quot;5pm&quot;)\n",
              "&gt;&gt;&gt; G.add_nodes_from([3], time=&quot;2pm&quot;)\n",
              "&gt;&gt;&gt; G.nodes[1]\n",
              "{&#x27;time&#x27;: &#x27;5pm&#x27;}\n",
              "&gt;&gt;&gt; G.nodes[1][&quot;room&quot;] = 714  # node must exist already to use G.nodes\n",
              "&gt;&gt;&gt; del G.nodes[1][&quot;room&quot;]  # remove attribute\n",
              "&gt;&gt;&gt; list(G.nodes(data=True))\n",
              "[(1, {&#x27;time&#x27;: &#x27;5pm&#x27;}), (3, {&#x27;time&#x27;: &#x27;2pm&#x27;})]\n",
              "\n",
              "Add edge attributes using add_edge(), add_edges_from(), subscript\n",
              "notation, or G.edges.\n",
              "\n",
              "&gt;&gt;&gt; G.add_edge(1, 2, weight=4.7)\n",
              "&gt;&gt;&gt; G.add_edges_from([(3, 4), (4, 5)], color=&quot;red&quot;)\n",
              "&gt;&gt;&gt; G.add_edges_from([(1, 2, {&quot;color&quot;: &quot;blue&quot;}), (2, 3, {&quot;weight&quot;: 8})])\n",
              "&gt;&gt;&gt; G[1][2][&quot;weight&quot;] = 4.7\n",
              "&gt;&gt;&gt; G.edges[1, 2][&quot;weight&quot;] = 4\n",
              "\n",
              "Warning: we protect the graph data structure by making `G.edges` a\n",
              "read-only dict-like structure. However, you can assign to attributes\n",
              "in e.g. `G.edges[1, 2]`. Thus, use 2 sets of brackets to add/change\n",
              "data attributes: `G.edges[1, 2][&#x27;weight&#x27;] = 4`\n",
              "(For multigraphs: `MG.edges[u, v, key][name] = value`).\n",
              "\n",
              "**Shortcuts:**\n",
              "\n",
              "Many common graph features allow python syntax to speed reporting.\n",
              "\n",
              "&gt;&gt;&gt; 1 in G  # check if node in graph\n",
              "True\n",
              "&gt;&gt;&gt; [n for n in G if n &lt; 3]  # iterate through nodes\n",
              "[1, 2]\n",
              "&gt;&gt;&gt; len(G)  # number of nodes in graph\n",
              "5\n",
              "\n",
              "Often the best way to traverse all edges of a graph is via the neighbors.\n",
              "The neighbors are reported as an adjacency-dict `G.adj` or `G.adjacency()`\n",
              "\n",
              "&gt;&gt;&gt; for n, nbrsdict in G.adjacency():\n",
              "...     for nbr, eattr in nbrsdict.items():\n",
              "...         if &quot;weight&quot; in eattr:\n",
              "...             # Do something useful with the edges\n",
              "...             pass\n",
              "\n",
              "But the edges() method is often more convenient:\n",
              "\n",
              "&gt;&gt;&gt; for u, v, weight in G.edges.data(&quot;weight&quot;):\n",
              "...     if weight is not None:\n",
              "...         # Do something useful with the edges\n",
              "...         pass\n",
              "\n",
              "**Reporting:**\n",
              "\n",
              "Simple graph information is obtained using object-attributes and methods.\n",
              "Reporting typically provides views instead of containers to reduce memory\n",
              "usage. The views update as the graph is updated similarly to dict-views.\n",
              "The objects `nodes`, `edges` and `adj` provide access to data attributes\n",
              "via lookup (e.g. `nodes[n]`, `edges[u, v]`, `adj[u][v]`) and iteration\n",
              "(e.g. `nodes.items()`, `nodes.data(&#x27;color&#x27;)`,\n",
              "`nodes.data(&#x27;color&#x27;, default=&#x27;blue&#x27;)` and similarly for `edges`)\n",
              "Views exist for `nodes`, `edges`, `neighbors()`/`adj` and `degree`.\n",
              "\n",
              "For details on these and other miscellaneous methods, see below.\n",
              "\n",
              "**Subclasses (Advanced):**\n",
              "\n",
              "The Graph class uses a dict-of-dict-of-dict data structure.\n",
              "The outer dict (node_dict) holds adjacency information keyed by node.\n",
              "The next dict (adjlist_dict) represents the adjacency information and holds\n",
              "edge data keyed by neighbor.  The inner dict (edge_attr_dict) represents\n",
              "the edge data and holds edge attribute values keyed by attribute names.\n",
              "\n",
              "Each of these three dicts can be replaced in a subclass by a user defined\n",
              "dict-like object. In general, the dict-like features should be\n",
              "maintained but extra features can be added. To replace one of the\n",
              "dicts create a new graph class by changing the class(!) variable\n",
              "holding the factory for that dict-like structure.\n",
              "\n",
              "node_dict_factory : function, (default: dict)\n",
              "    Factory function to be used to create the dict containing node\n",
              "    attributes, keyed by node id.\n",
              "    It should require no arguments and return a dict-like object\n",
              "\n",
              "node_attr_dict_factory: function, (default: dict)\n",
              "    Factory function to be used to create the node attribute\n",
              "    dict which holds attribute values keyed by attribute name.\n",
              "    It should require no arguments and return a dict-like object\n",
              "\n",
              "adjlist_outer_dict_factory : function, (default: dict)\n",
              "    Factory function to be used to create the outer-most dict\n",
              "    in the data structure that holds adjacency info keyed by node.\n",
              "    It should require no arguments and return a dict-like object.\n",
              "\n",
              "adjlist_inner_dict_factory : function, (default: dict)\n",
              "    Factory function to be used to create the adjacency list\n",
              "    dict which holds edge data keyed by neighbor.\n",
              "    It should require no arguments and return a dict-like object\n",
              "\n",
              "edge_attr_dict_factory : function, (default: dict)\n",
              "    Factory function to be used to create the edge attribute\n",
              "    dict which holds attribute values keyed by attribute name.\n",
              "    It should require no arguments and return a dict-like object.\n",
              "\n",
              "graph_attr_dict_factory : function, (default: dict)\n",
              "    Factory function to be used to create the graph attribute\n",
              "    dict which holds attribute values keyed by attribute name.\n",
              "    It should require no arguments and return a dict-like object.\n",
              "\n",
              "Typically, if your extension doesn&#x27;t impact the data structure all\n",
              "methods will inherit without issue except: `to_directed/to_undirected`.\n",
              "By default these methods create a DiGraph/Graph class and you probably\n",
              "want them to create your extension of a DiGraph/Graph. To facilitate\n",
              "this we define two class variables that you can set in your subclass.\n",
              "\n",
              "to_directed_class : callable, (default: DiGraph or MultiDiGraph)\n",
              "    Class to create a new graph structure in the `to_directed` method.\n",
              "    If `None`, a NetworkX class (DiGraph or MultiDiGraph) is used.\n",
              "\n",
              "to_undirected_class : callable, (default: Graph or MultiGraph)\n",
              "    Class to create a new graph structure in the `to_undirected` method.\n",
              "    If `None`, a NetworkX class (Graph or MultiGraph) is used.\n",
              "\n",
              "**Subclassing Example**\n",
              "\n",
              "Create a low memory graph class that effectively disallows edge\n",
              "attributes by using a single attribute dict for all edges.\n",
              "This reduces the memory used, but you lose edge attributes.\n",
              "\n",
              "&gt;&gt;&gt; class ThinGraph(nx.Graph):\n",
              "...     all_edge_dict = {&quot;weight&quot;: 1}\n",
              "...\n",
              "...     def single_edge_dict(self):\n",
              "...         return self.all_edge_dict\n",
              "...\n",
              "...     edge_attr_dict_factory = single_edge_dict\n",
              "&gt;&gt;&gt; G = ThinGraph()\n",
              "&gt;&gt;&gt; G.add_edge(2, 1)\n",
              "&gt;&gt;&gt; G[2][1]\n",
              "{&#x27;weight&#x27;: 1}\n",
              "&gt;&gt;&gt; G.add_edge(2, 2)\n",
              "&gt;&gt;&gt; G[2][1] is G[2][2]\n",
              "True</pre>\n",
              "      <script>\n",
              "      if (google.colab.kernel.accessAllowed && google.colab.files && google.colab.files.view) {\n",
              "        for (const element of document.querySelectorAll('.filepath')) {\n",
              "          element.style.display = 'block'\n",
              "          element.onclick = (event) => {\n",
              "            event.preventDefault();\n",
              "            event.stopPropagation();\n",
              "            google.colab.files.view(element.textContent, 66);\n",
              "          };\n",
              "        }\n",
              "      }\n",
              "      for (const element of document.querySelectorAll('.function-repr-contents')) {\n",
              "        element.onclick = (event) => {\n",
              "          event.preventDefault();\n",
              "          event.stopPropagation();\n",
              "          element.classList.toggle('function-repr-contents-collapsed');\n",
              "        };\n",
              "      }\n",
              "      </script>\n",
              "      </div>"
            ]
          },
          "metadata": {},
          "execution_count": 2
        }
      ]
    },
    {
      "cell_type": "code",
      "metadata": {
        "id": "hDvf3nm-ors4",
        "colab": {
          "base_uri": "https://localhost:8080/",
          "height": 516
        },
        "outputId": "15570769-0572-499d-c458-e55fc7ffbedd"
      },
      "source": [
        "# Visualize the graph\n",
        "nx.draw(G, with_labels = True)"
      ],
      "execution_count": 3,
      "outputs": [
        {
          "output_type": "display_data",
          "data": {
            "text/plain": [
              "<Figure size 640x480 with 1 Axes>"
            ],
            "image/png": "[encoded data removed]"
          },
          "metadata": {}
        }
      ]
    },
    {
      "cell_type": "markdown",
      "metadata": {
        "id": "FX25Y1CrYmgN"
      },
      "source": [
        "## Question 1: What is the average degree of the karate club network? (5 Points)"
      ]
    },
    {
      "cell_type": "code",
      "metadata": {
        "id": "AUhES1VYo3tB",
        "colab": {
          "base_uri": "https://localhost:8080/"
        },
        "outputId": "6e9505d9-3583-44c8-ddaa-aa9cbce6d452"
      },
      "source": [
        "def average_degree(num_edges, num_nodes):\n",
        "  # TODO: Implement this function that takes number of edges\n",
        "  # and number of nodes, and returns the average node degree of\n",
        "  # the graph. Round the result to nearest integer (for example\n",
        "  # 3.3 will be rounded to 3 and 3.7 will be rounded to 4)\n",
        "\n",
        "  ############# Your code here ############\n",
        "  avg_degree = round(2*num_edges/num_nodes)\n",
        "  #########################################\n",
        "\n",
        "  return avg_degree\n",
        "\n",
        "num_edges = G.number_of_edges()\n",
        "num_nodes = G.number_of_nodes()\n",
        "avg_degree = average_degree(num_edges, num_nodes)\n",
        "print(\"Average degree of karate club network is {}\".format(avg_degree))"
      ],
      "execution_count": 4,
      "outputs": [
        {
          "output_type": "stream",
          "name": "stdout",
          "text": [
            "Average degree of karate club network is 5\n"
          ]
        }
      ]
    },
    {
      "cell_type": "markdown",
      "metadata": {
        "id": "Fk02fD4vYmZI"
      },
      "source": [
        "## Question 2: What is the average clustering coefficient of the karate club network? (5 Points)"
      ]
    },
    {
      "cell_type": "code",
      "metadata": {
        "id": "k15XKEto1aYJ",
        "colab": {
          "base_uri": "https://localhost:8080/"
        },
        "outputId": "3d9a0a90-d7e9-471d-f346-0b23a5906ff4"
      },
      "source": [
        "def average_clustering_coefficient(G):\n",
        "  # TODO: Implement this function that takes a nx.Graph\n",
        "  # and returns the average clustering coefficient. Round\n",
        "  # the result to 2 decimal places (for example 3.333 will\n",
        "  # be rounded to 3.33 and 3.7571 will be rounded to 3.76)\n",
        "\n",
        "\n",
        "  ############# Your code here ############\n",
        "  ## Note:\n",
        "  ## 1: Please use the appropriate NetworkX clustering function\n",
        "  avg_cluster_coef = nx.average_clustering(G)\n",
        "  #########################################\n",
        "\n",
        "  return avg_cluster_coef\n",
        "\n",
        "avg_cluster_coef = average_clustering_coefficient(G)\n",
        "print(\"Average clustering coefficient of karate club network is {}\".format(avg_cluster_coef))"
      ],
      "execution_count": 5,
      "outputs": [
        {
          "output_type": "stream",
          "name": "stdout",
          "text": [
            "Average clustering coefficient of karate club network is 0.5706384782076823\n"
          ]
        }
      ]
    },
    {
      "cell_type": "markdown",
      "metadata": {
        "id": "zghQ-AhXYmP4"
      },
      "source": [
        "## Question 3: What is the PageRank value for node 0 (node with id 0) after one PageRank iteration? (5 Points)\n",
        "\n",
        "Page Rank measures importance of nodes in a graph using the link structure of the web. A “vote” from an important page is worth more. Specifically, if  a page $i$ with importance $r_i$ has $d_i$ out-links, then each link gets $\\frac{r_i}{d_i}$ votes. Thus, the importance of a Page $j$, represented as $r_j$ is the sum of the votes on its in links.\n",
        "$$r_j = \\sum_{i \\rightarrow j} \\frac{r_i}{d_i}$$, where $d_i$ is the out degree of node $i$.\n",
        "\n",
        "The PageRank algorithm (used by Google) outputs a probability distribution which represent the likelihood of a random surfer clicking on links will arrive at any particular page. At each time step, the random surfer has two options\n",
        "- With prob. $\\beta$, follow a link at random\n",
        "- With prob. $1- \\beta$, jump to a random page\n",
        "\n",
        "Thus, the importance of a particular page is calculated with the following PageRank equation:\n",
        " $$r_j = \\sum_{i \\rightarrow j} \\beta \\frac{r_i}{d_i} + (1 - \\beta) \\frac{1}{N}$$\n",
        "\n",
        "Please complete the code block by implementing the above PageRank equation for node 0.\n",
        "\n",
        "Note - You can refer to more information from the slides here - http://snap.stanford.edu/class/cs224w-2020/slides/04-pagerank.pdf\n",
        "\n",
        "\n"
      ]
    },
    {
      "cell_type": "code",
      "metadata": {
        "id": "BOGdWjNc6O7x",
        "colab": {
          "base_uri": "https://localhost:8080/"
        },
        "outputId": "5f703105-bdeb-45e2-f59d-ebe0e273e63f"
      },
      "source": [
        "def one_iter_pagerank(G, beta, r0, node_id):\n",
        "  # TODO: Implement this function that takes a nx.Graph, beta, r0 and node id.\n",
        "  # The return value r1 is one interation PageRank value for the input node.\n",
        "  # Please round r1 to 2 decimal places.\n",
        "\n",
        "  r1 = 0\n",
        "\n",
        "  ############# Your code here ############\n",
        "  ## Note:\n",
        "  ## 1: You should not use nx.pagerank\n",
        "  N = G.number_of_nodes()\n",
        "\n",
        "  for _, neighbor in G.edges(node_id):\n",
        "    r1 += beta*(r0)/G.degree[neighbor]\n",
        "  r1 += (1-beta)/N\n",
        "\n",
        "  r1 = round(r1, 2)\n",
        "  #########################################\n",
        "\n",
        "  return r1\n",
        "\n",
        "beta = 0.8\n",
        "r0 = 1 / G.number_of_nodes()\n",
        "node = 0\n",
        "r1 = one_iter_pagerank(G, beta, r0, node)\n",
        "print(\"The PageRank value for node 0 after one iteration is {}\".format(r1))"
      ],
      "execution_count": 6,
      "outputs": [
        {
          "output_type": "stream",
          "name": "stdout",
          "text": [
            "The PageRank value for node 0 after one iteration is 0.13\n"
          ]
        }
      ]
    },
    {
      "cell_type": "markdown",
      "metadata": {
        "id": "icTcOULeYmIu"
      },
      "source": [
        "## Question 4: What is the (raw) closeness centrality for the karate club network node 5? (5 Points)\n",
        "\n",
        "The equation for closeness centrality is $c(v) = \\frac{1}{\\sum_{u \\neq v}\\text{shortest path length between } u \\text{ and } v}$"
      ]
    },
    {
      "cell_type": "code",
      "metadata": {
        "id": "XbCsq_tl-3ok",
        "colab": {
          "base_uri": "https://localhost:8080/"
        },
        "outputId": "5c4d36c7-66c5-444e-fe19-35ff35611282"
      },
      "source": [
        "def closeness_centrality(G, node=5):\n",
        "  # TODO: Implement the function that calculates closeness centrality\n",
        "  # for a node in karate club network. G is the input karate club\n",
        "  # network and node is the node id in the graph. Please round the\n",
        "  # closeness centrality result to 2 decimal places.\n",
        "\n",
        "  closeness = 0\n",
        "\n",
        "  ## Note:\n",
        "  ## 1: You can use networkx closeness centrality function.\n",
        "  ## 2: Notice that networkx closeness centrality returns the normalized\n",
        "  ## closeness directly, which is different from the raw (unnormalized)\n",
        "  ## one that we learned in the lecture.\n",
        "\n",
        "  ############# Your code here ############\n",
        "\n",
        "  closeness = nx.closeness_centrality(G, node)/(G.number_of_nodes()-1)\n",
        "  closeness = round(closeness, 2)\n",
        "  #########################################\n",
        "\n",
        "  return closeness\n",
        "\n",
        "node = 5\n",
        "closeness = closeness_centrality(G, node=node)\n",
        "print(\"The node 5 has closeness centrality {}\".format(closeness))"
      ],
      "execution_count": 7,
      "outputs": [
        {
          "output_type": "stream",
          "name": "stdout",
          "text": [
            "The node 5 has closeness centrality 0.01\n"
          ]
        }
      ]
    },
    {
      "cell_type": "markdown",
      "metadata": {
        "id": "-MxvowibYl4x"
      },
      "source": [
        "# 2 Graph to Tensor\n",
        "We will then work together to transform the graph $G$ into a PyTorch tensor, so that we can perform machine learning over the graph."
      ]
    },
    {
      "cell_type": "markdown",
      "metadata": {
        "id": "eDA8PosrA-9V"
      },
      "source": [
        "## Setup\n",
        "Check if PyTorch is properly installed"
      ]
    },
    {
      "cell_type": "code",
      "metadata": {
        "id": "ntuPVat_BAf1",
        "colab": {
          "base_uri": "https://localhost:8080/"
        },
        "outputId": "4e6ee943-7bd8-4c69-a932-81259b5f1704"
      },
      "source": [
        "import torch\n",
        "print(torch.__version__)"
      ],
      "execution_count": 8,
      "outputs": [
        {
          "output_type": "stream",
          "name": "stdout",
          "text": [
            "2.4.1+cu121\n"
          ]
        }
      ]
    },
    {
      "cell_type": "markdown",
      "metadata": {
        "id": "fko_2wSKYlun"
      },
      "source": [
        "## PyTorch tensor basics\n",
        "\n",
        "We can generate PyTorch tensor with all zeros, ones or random values."
      ]
    },
    {
      "cell_type": "code",
      "metadata": {
        "id": "W2ySw3m-A9qF",
        "colab": {
          "base_uri": "https://localhost:8080/"
        },
        "outputId": "0acffc46-41dd-4149-bc5e-caceeb8f6421"
      },
      "source": [
        "# Generate 3 x 4 tensor with all ones\n",
        "ones = torch.ones(3, 4)\n",
        "print(ones)\n",
        "\n",
        "# Generate 3 x 4 tensor with all zeros\n",
        "zeros = torch.zeros(3, 4)\n",
        "print(zeros)\n",
        "\n",
        "# Generate 3 x 4 tensor with random values on the interval [0, 1)\n",
        "random_tensor = torch.rand(3, 4)\n",
        "print(random_tensor)\n",
        "\n",
        "# Get the shape of the tensor\n",
        "print(ones.shape)"
      ],
      "execution_count": 9,
      "outputs": [
        {
          "output_type": "stream",
          "name": "stdout",
          "text": [
            "tensor([[1., 1., 1., 1.],\n",
            "        [1., 1., 1., 1.],\n",
            "        [1., 1., 1., 1.]])\n",
            "tensor([[0., 0., 0., 0.],\n",
            "        [0., 0., 0., 0.],\n",
            "        [0., 0., 0., 0.]])\n",
            "tensor([[0.9706, 0.8544, 0.9475, 0.0296],\n",
            "        [0.2256, 0.7673, 0.9517, 0.7937],\n",
            "        [0.1780, 0.8222, 0.5502, 0.4440]])\n",
            "torch.Size([3, 4])\n"
          ]
        }
      ]
    },
    {
      "cell_type": "markdown",
      "metadata": {
        "id": "x8mp66eHBxWC"
      },
      "source": [
        "PyTorch tensor contains elements for a single data type, the `dtype`."
      ]
    },
    {
      "cell_type": "code",
      "metadata": {
        "id": "rQiOvKJJBwq4",
        "colab": {
          "base_uri": "https://localhost:8080/"
        },
        "outputId": "f6b03611-988b-429e-c9bf-decf0edefc2c"
      },
      "source": [
        "# Create a 3 x 4 tensor with all 32-bit floating point zeros\n",
        "zeros = torch.zeros(3, 4, dtype=torch.float32)\n",
        "print(zeros.dtype)\n",
        "\n",
        "# Change the tensor dtype to 64-bit integer\n",
        "zeros = zeros.type(torch.long)\n",
        "print(zeros.dtype)"
      ],
      "execution_count": 10,
      "outputs": [
        {
          "output_type": "stream",
          "name": "stdout",
          "text": [
            "torch.float32\n",
            "torch.int64\n"
          ]
        }
      ]
    },
    {
      "cell_type": "markdown",
      "metadata": {
        "id": "I9EfegIRDkk2"
      },
      "source": [
        "## Question 5: Get the edge list of the karate club network and transform it into `torch.LongTensor`. What is the `torch.sum` value of `pos_edge_index` tensor? (10 Points)"
      ]
    },
    {
      "cell_type": "code",
      "metadata": {
        "id": "kEtVxMFID3ZT",
        "colab": {
          "base_uri": "https://localhost:8080/"
        },
        "outputId": "18cb15c9-0d9a-4218-e5bf-be6d7d9876bc"
      },
      "source": [
        "def graph_to_edge_list(G):\n",
        "  # TODO: Implement the function that returns the edge list of\n",
        "  # an nx.Graph. The returned edge_list should be a list of tuples\n",
        "  # where each tuple is a tuple representing an edge connected\n",
        "  # by two nodes.\n",
        "\n",
        "  edge_list = []\n",
        "\n",
        "  ############# Your code here ############\n",
        "  for a, b in G.edges:\n",
        "    edge_list.append([a,b])\n",
        "\n",
        "  #########################################\n",
        "\n",
        "  return edge_list\n",
        "\n",
        "def edge_list_to_tensor(edge_list):\n",
        "  # TODO: Implement the function that transforms the edge_list to\n",
        "  # tensor. The input edge_list is a list of tuples and the resulting\n",
        "  # tensor should have the shape [2, len(edge_list)].\n",
        "\n",
        "\n",
        "  ############# Your code here ############\n",
        "  edge_index = torch.tensor(edge_list, dtype=torch.long)\n",
        "  edge_index = edge_index.T\n",
        "\n",
        "  #########################################\n",
        "\n",
        "  return edge_index\n",
        "\n",
        "pos_edge_list = graph_to_edge_list(G)\n",
        "print(pos_edge_list)\n",
        "pos_edge_index = edge_list_to_tensor(pos_edge_list)\n",
        "# print(pos_edge_index)\n",
        "print(\"The pos_edge_index tensor has shape {}\".format(pos_edge_index.shape))\n",
        "print(\"The pos_edge_index tensor has sum value {}\".format(torch.sum(pos_edge_index)))"
      ],
      "execution_count": 11,
      "outputs": [
        {
          "output_type": "stream",
          "name": "stdout",
          "text": [
            "[[0, 1], [0, 2], [0, 3], [0, 4], [0, 5], [0, 6], [0, 7], [0, 8], [0, 10], [0, 11], [0, 12], [0, 13], [0, 17], [0, 19], [0, 21], [0, 31], [1, 2], [1, 3], [1, 7], [1, 13], [1, 17], [1, 19], [1, 21], [1, 30], [2, 3], [2, 7], [2, 8], [2, 9], [2, 13], [2, 27], [2, 28], [2, 32], [3, 7], [3, 12], [3, 13], [4, 6], [4, 10], [5, 6], [5, 10], [5, 16], [6, 16], [8, 30], [8, 32], [8, 33], [9, 33], [13, 33], [14, 32], [14, 33], [15, 32], [15, 33], [18, 32], [18, 33], [19, 33], [20, 32], [20, 33], [22, 32], [22, 33], [23, 25], [23, 27], [23, 29], [23, 32], [23, 33], [24, 25], [24, 27], [24, 31], [25, 31], [26, 29], [26, 33], [27, 33], [28, 31], [28, 33], [29, 32], [29, 33], [30, 32], [30, 33], [31, 32], [31, 33], [32, 33]]\n",
            "The pos_edge_index tensor has shape torch.Size([2, 78])\n",
            "The pos_edge_index tensor has sum value 2535\n"
          ]
        }
      ]
    },
    {
      "cell_type": "markdown",
      "metadata": {
        "id": "UBL-ZmdHWqIu"
      },
      "source": [
        "## Question 6: Please implement following function that samples negative edges. Then answer which edges (edge_1 to edge_5) are the negative edges in the karate club network? (10 Points)\n",
        "\n",
        "\"Negative\" edges refer to the edges/links that do not exist in the graph. The term \"negative\" is borrowed from \"negative sampling\" in link prediction. It has nothing to do with the edge weights.\n",
        "\n",
        "For example, given an edge (src, dst), you should check that neither (src, dst) nor (dst, src) are edges in the Graph. If these hold true, then it is a negative edge."
      ]
    },
    {
      "cell_type": "code",
      "metadata": {
        "id": "9N8VT1f8-IJ8",
        "colab": {
          "base_uri": "https://localhost:8080/"
        },
        "outputId": "01f843f8-ebbd-4aa9-a29a-7e52a8db9b80"
      },
      "source": [
        "import random\n",
        "\n",
        "def can_be_negative(G, edge):\n",
        "  # TODO: Implement the function that tests if an edge is a negative\n",
        "  # edge in graph G.\n",
        "\n",
        "  # is_negative = False\n",
        "  a,b = edge\n",
        "\n",
        "  ############# Your code here ############\n",
        "  # print(G.edges(a))\n",
        "  is_negative = edge not in G.edges(a)\n",
        "  #########################################\n",
        "\n",
        "  return is_negative\n",
        "\n",
        "def sample_negative_edges(G, num_neg_samples):\n",
        "  # TODO: Implement the function that returns a list of negative edges.\n",
        "  # The number of sampled negative edges is num_neg_samples. You do not\n",
        "  # need to consider the corner case when the number of possible negative edges\n",
        "  # is less than num_neg_samples. It should be ok as long as your implementation\n",
        "  # works on the karate club network. In this implementation, self loops should\n",
        "  # not be considered as either a positive or negative edge. Also, notice that\n",
        "  # the karate club network is an undirected graph, if (0, 1) is a positive\n",
        "  # edge, do you think (1, 0) can be a negative one?\n",
        "\n",
        "  neg_edge_list = []\n",
        "  N = G.number_of_nodes()\n",
        "  ############# Your code here ############\n",
        "  while len(neg_edge_list) < num_neg_samples:\n",
        "    node1 = random.randint(0, N-1)\n",
        "    node2 = random.randint(0, N-1)\n",
        "    if node1 == node2 or not can_be_negative(G, (node1, node2)):\n",
        "      continue\n",
        "    neg_edge_list.append((node1, node2))\n",
        "  #########################################\n",
        "\n",
        "  return neg_edge_list\n",
        "\n",
        "# Sample 78 negative edges\n",
        "neg_edge_list = sample_negative_edges(G, len(pos_edge_list))\n",
        "\n",
        "# Transform the negative edge list to tensor\n",
        "neg_edge_index = edge_list_to_tensor(neg_edge_list)\n",
        "print(\"The neg_edge_index tensor has shape {}\".format(neg_edge_index.shape))\n",
        "\n",
        "# Which of following edges can be negative ones?\n",
        "edge_1 = (7, 1)\n",
        "edge_2 = (1, 33)\n",
        "edge_3 = (33, 22)\n",
        "edge_4 = (0, 4)\n",
        "edge_5 = (4, 2)\n",
        "\n",
        "\n",
        "print(f\"Edge 1 can be a negative edge: {can_be_negative(G, edge_1)}\")\n",
        "print(f\"Edge 2 can be a negative edge: {can_be_negative(G, edge_2)}\")\n",
        "print(f\"Edge 3 can be a negative edge: {can_be_negative(G, edge_3)}\")\n",
        "print(f\"Edge 4 can be a negative edge: {can_be_negative(G, edge_4)}\")\n",
        "print(f\"Edge 5 can be a negative edge: {can_be_negative(G, edge_5)}\")"
      ],
      "execution_count": 12,
      "outputs": [
        {
          "output_type": "stream",
          "name": "stdout",
          "text": [
            "The neg_edge_index tensor has shape torch.Size([2, 78])\n",
            "Edge 1 can be a negative edge: False\n",
            "Edge 2 can be a negative edge: True\n",
            "Edge 3 can be a negative edge: False\n",
            "Edge 4 can be a negative edge: False\n",
            "Edge 5 can be a negative edge: True\n"
          ]
        }
      ]
    },
    {
      "cell_type": "markdown",
      "metadata": {
        "id": "Wk9Q-a-9qGsw"
      },
      "source": [
        "# 3 Node Emebedding Learning\n",
        "\n",
        "Finally, we will finish the first learning algorithm on graphs: a node embedding model.\n"
      ]
    },
    {
      "cell_type": "markdown",
      "metadata": {
        "id": "NDBxRQcZ_dUH"
      },
      "source": [
        "## Setup"
      ]
    },
    {
      "cell_type": "code",
      "metadata": {
        "id": "Lnqn9H6s_ehX",
        "colab": {
          "base_uri": "https://localhost:8080/"
        },
        "outputId": "9d8e8090-5ca5-4ade-b408-048655a560de"
      },
      "source": [
        "import torch\n",
        "import torch.nn as nn\n",
        "import matplotlib.pyplot as plt\n",
        "from sklearn.decomposition import PCA\n",
        "\n",
        "print(torch.__version__)"
      ],
      "execution_count": 13,
      "outputs": [
        {
          "output_type": "stream",
          "name": "stdout",
          "text": [
            "2.4.1+cu121\n"
          ]
        }
      ]
    },
    {
      "cell_type": "markdown",
      "metadata": {
        "id": "6gomAf8vxq0R"
      },
      "source": [
        "To write our own node embedding learning methods, we'll heavily use the [`nn.Embedding`](https://pytorch.org/docs/stable/generated/torch.nn.Embedding.html) module in PyTorch. Let's see how to use `nn.Embedding`:"
      ]
    },
    {
      "cell_type": "code",
      "metadata": {
        "id": "aRiWGuLAx5yx",
        "colab": {
          "base_uri": "https://localhost:8080/"
        },
        "outputId": "03723abc-bacd-4f39-cf94-b63a49854ccc"
      },
      "source": [
        "# Initialize an embedding layer\n",
        "# Suppose we want to have embedding for 4 items (e.g., nodes)\n",
        "# Each item is represented with 8 dimensional vector\n",
        "\n",
        "emb_sample = nn.Embedding(num_embeddings=4, embedding_dim=8)\n",
        "print('Sample embedding layer: {}'.format(emb_sample))"
      ],
      "execution_count": 14,
      "outputs": [
        {
          "output_type": "stream",
          "name": "stdout",
          "text": [
            "Sample embedding layer: Embedding(4, 8)\n"
          ]
        }
      ]
    },
    {
      "cell_type": "markdown",
      "metadata": {
        "id": "bS9qQfeujEVh"
      },
      "source": [
        "We can select items from the embedding matrix, by using Tensor indices"
      ]
    },
    {
      "cell_type": "code",
      "metadata": {
        "id": "9AGIfP4QEDr8",
        "colab": {
          "base_uri": "https://localhost:8080/"
        },
        "outputId": "7b49370e-2eeb-4a26-e9bc-b25c15464dcd"
      },
      "source": [
        "# Select an embedding in emb_sample\n",
        "id = torch.LongTensor([1])\n",
        "print(emb_sample(id))\n",
        "\n",
        "# Select multiple embeddings\n",
        "ids = torch.LongTensor([1, 3])\n",
        "print(emb_sample(ids))\n",
        "\n",
        "# Get the shape of the embedding weight matrix\n",
        "shape = emb_sample.weight.data.shape\n",
        "print(shape)\n",
        "\n",
        "# Overwrite the weight to tensor with all ones\n",
        "emb_sample.weight.data = torch.ones(shape)\n",
        "\n",
        "# Let's check if the emb is indeed initilized\n",
        "ids = torch.LongTensor([0, 3])\n",
        "print(emb_sample(ids))"
      ],
      "execution_count": 15,
      "outputs": [
        {
          "output_type": "stream",
          "name": "stdout",
          "text": [
            "tensor([[-1.0835,  1.0995,  0.0397,  1.1176,  1.3407, -0.1561,  0.4674,  0.2621]],\n",
            "       grad_fn=<EmbeddingBackward0>)\n",
            "tensor([[-1.0835,  1.0995,  0.0397,  1.1176,  1.3407, -0.1561,  0.4674,  0.2621],\n",
            "        [ 0.5748, -1.2705, -0.8476, -0.9689,  1.2085,  0.4699, -0.3924, -0.6340]],\n",
            "       grad_fn=<EmbeddingBackward0>)\n",
            "torch.Size([4, 8])\n",
            "tensor([[1., 1., 1., 1., 1., 1., 1., 1.],\n",
            "        [1., 1., 1., 1., 1., 1., 1., 1.]], grad_fn=<EmbeddingBackward0>)\n"
          ]
        }
      ]
    },
    {
      "cell_type": "markdown",
      "metadata": {
        "id": "8MjBuDKaKIsM"
      },
      "source": [
        "Now, it's your time to create node embedding matrix for the graph we have!\n",
        "- We want to have **16 dimensional** vector for each node in the karate club network.\n",
        "- We want to initalize the matrix under **uniform distribution**, in the range of $[0, 1)$. We suggest you using [`torch.rand`](https://pytorch.org/docs/stable/generated/torch.rand.html)."
      ]
    },
    {
      "cell_type": "code",
      "metadata": {
        "id": "hMszSwRPKGn1",
        "colab": {
          "base_uri": "https://localhost:8080/"
        },
        "outputId": "079d0dcc-5323-480e-8ccd-afd19b8dba51"
      },
      "source": [
        "# Please do not change / reset the random seed\n",
        "torch.manual_seed(1)\n",
        "\n",
        "def create_node_emb(num_node=34, embedding_dim=16):\n",
        "  # TODO: Implement this function that will create the node embedding matrix.\n",
        "  # A torch.nn.Embedding layer will be returned. You do not need to change\n",
        "  # the values of num_node and embedding_dim. The weight matrix of returned\n",
        "  # layer should be initialized under uniform distribution.\n",
        "\n",
        "  emb = None\n",
        "\n",
        "  ############# Your code here ############\n",
        "  emb = nn.Embedding(34, 16)\n",
        "  #########################################\n",
        "\n",
        "  return emb\n",
        "\n",
        "emb = create_node_emb()\n",
        "ids = torch.LongTensor([0, 3])\n",
        "\n",
        "# Print the embedding layer\n",
        "print(\"Embedding: {}\".format(emb))\n",
        "\n",
        "# An example that gets the embeddings for node 0 and 3\n",
        "print(emb(ids))"
      ],
      "execution_count": 16,
      "outputs": [
        {
          "output_type": "stream",
          "name": "stdout",
          "text": [
            "Embedding: Embedding(34, 16)\n",
            "tensor([[-1.5256, -0.7502, -0.6540, -1.6095, -0.1002, -0.6092, -0.9798, -1.6091,\n",
            "         -0.7121,  0.3037, -0.7773, -0.2515, -0.2223,  1.6871,  0.2284,  0.4676],\n",
            "        [-0.9274,  0.5451,  0.0663, -0.4370,  0.7626,  0.4415,  1.1651,  2.0154,\n",
            "          0.1374,  0.9386, -0.1860, -0.6446,  1.5392, -0.8696, -3.3312, -0.7479]],\n",
            "       grad_fn=<EmbeddingBackward0>)\n"
          ]
        }
      ]
    },
    {
      "cell_type": "markdown",
      "metadata": {
        "id": "4QfoANibTzyh"
      },
      "source": [
        "## Visualize the initial node embeddings\n",
        "One good way to understand an embedding matrix, is to visualize it in a 2D space.\n",
        "Here, we have implemented an embedding visualization function for you.\n",
        "We first do PCA to reduce the dimensionality of embeddings to a 2D space.\n",
        "Then we visualize each point, colored by the community it belongs to."
      ]
    },
    {
      "cell_type": "code",
      "metadata": {
        "id": "_LCoIkarhfYD",
        "colab": {
          "base_uri": "https://localhost:8080/",
          "height": 522
        },
        "outputId": "396cde6f-2483-4071-b301-c96445c59e65"
      },
      "source": [
        "def visualize_emb(emb):\n",
        "  X = emb.weight.data.numpy()\n",
        "  pca = PCA(n_components=2)\n",
        "  components = pca.fit_transform(X)\n",
        "  plt.figure(figsize=(6, 6))\n",
        "  club1_x = []\n",
        "  club1_y = []\n",
        "  club2_x = []\n",
        "  club2_y = []\n",
        "  for node in G.nodes(data=True):\n",
        "    if node[1]['club'] == 'Mr. Hi':\n",
        "      club1_x.append(components[node[0]][0])\n",
        "      club1_y.append(components[node[0]][1])\n",
        "    else:\n",
        "      club2_x.append(components[node[0]][0])\n",
        "      club2_y.append(components[node[0]][1])\n",
        "  plt.scatter(club1_x, club1_y, color=\"red\", label=\"Mr. Hi\")\n",
        "  plt.scatter(club2_x, club2_y, color=\"blue\", label=\"Officer\")\n",
        "  plt.legend()\n",
        "  plt.show()\n",
        "\n",
        "# Visualize the initial random embeddding\n",
        "visualize_emb(emb)"
      ],
      "execution_count": 17,
      "outputs": [
        {
          "output_type": "display_data",
          "data": {
            "text/plain": [
              "<Figure size 600x600 with 1 Axes>"
            ],
            "image/png": "[encoded data removed]"
          },
          "metadata": {}
        }
      ]
    },
    {
      "cell_type": "markdown",
      "metadata": {
        "id": "bQIyuEz9ANb2"
      },
      "source": [
        "## Question 7: Training the embedding! What is the best performance you can get? Please report both the best loss and accuracy on Gradescope. (20 Points)\n",
        "\n",
        "We want to optimize our embeddings for the task of classifying edges as positive or negative. Given an edge and the embeddings for each node, the dot product of the embeddings, followed by a sigmoid, should give us the likelihood of that edge being either positive (output of sigmoid > 0.5) or negative (output of sigmoid < 0.5).\n",
        "\n",
        "Note that we're using the functions you wrote in the previous questions, _as well as the variables initialized in previous cells_. If you're running into issues, make sure your answers to questions 1-6 are correct."
      ]
    },
    {
      "cell_type": "code",
      "metadata": {
        "id": "RDeQTNNxqH0j",
        "colab": {
          "base_uri": "https://localhost:8080/"
        },
        "outputId": "6b5970a7-d5dd-4caf-a2f5-edf6045b5b04"
      },
      "source": [
        "from torch.optim import SGD\n",
        "import torch.nn as nn\n",
        "\n",
        "def accuracy(pred, label):\n",
        "  # TODO: Implement the accuracy function. This function takes the\n",
        "  # pred tensor (the resulting tensor after sigmoid) and the label\n",
        "  # tensor (torch.LongTensor). Predicted value greater than 0.5 will\n",
        "  # be classified as label 1. Else it will be classified as label 0.\n",
        "  # The returned accuracy should be rounded to 4 decimal places.\n",
        "  # For example, accuracy 0.82956 will be rounded to 0.8296.\n",
        "\n",
        "  accu = 0.0\n",
        "\n",
        "  ############# Your code here ############\n",
        "  pred_labels = (pred > 0.5).type(torch.long)\n",
        "  accu = torch.sum(pred_labels == label)/label.shape[0]\n",
        "  #########################################\n",
        "\n",
        "  return accu\n",
        "\n",
        "def train(emb, loss_fn, train_label, train_edge):\n",
        "  # TODO: Train the embedding layer here. You can also change epochs and\n",
        "  # learning rate. In general, you need to implement:\n",
        "  # (1) Get the embeddings of the nodes in train_edge\n",
        "  # (2) Dot product the embeddings between each node pair\n",
        "  # (3) Feed the dot product result into sigmoid\n",
        "  # (4) Feed the sigmoid output into the loss_fn\n",
        "  # (5) Print both loss and accuracy of each epoch\n",
        "  # (6) Update the embeddings using the loss and optimizer\n",
        "  # (as a sanity check, the loss should decrease during training)\n",
        "\n",
        "  epochs = 500\n",
        "  learning_rate = 0.1\n",
        "\n",
        "  optimizer = SGD(emb.parameters(), lr=learning_rate, momentum=0.9)\n",
        "\n",
        "  for i in range(epochs):\n",
        "\n",
        "    ############# Your code here ############\n",
        "    edges_a = train_edge[0, :]\n",
        "    embeddings_a = emb(edges_a)\n",
        "    edges_b = train_edge[1, :]\n",
        "    embeddings_b = emb(edges_b)\n",
        "    optimizer.zero_grad()\n",
        "    dot_product = torch.sum(embeddings_a*embeddings_b, dim=1)\n",
        "    # print(dot_product.shape)\n",
        "    # print(dot_product[0])\n",
        "    sigmoid_dot_product = torch.sigmoid(dot_product)\n",
        "    # print(sigmoid_dot_product.shape)\n",
        "    # print(sigmoid_dot_product[0])\n",
        "    accu = accuracy(sigmoid_dot_product, train_label)\n",
        "    loss = loss_fn(sigmoid_dot_product, train_label)\n",
        "    print(f\"Epoch {i}: loss is {loss}. accuracy is {accu}.\")\n",
        "    loss.backward()\n",
        "    optimizer.step()\n",
        "    #########################################\n",
        "\n",
        "  return emb\n",
        "\n",
        "loss_fn = nn.BCELoss()\n",
        "\n",
        "print(pos_edge_index.shape)\n",
        "\n",
        "# Generate the positive and negative labels\n",
        "pos_label = torch.ones(pos_edge_index.shape[1], )\n",
        "neg_label = torch.zeros(neg_edge_index.shape[1], )\n",
        "\n",
        "# Concat positive and negative labels into one tensor\n",
        "train_label = torch.cat([pos_label, neg_label], dim=0)\n",
        "\n",
        "# Concat positive and negative edges into one tensor\n",
        "# Since the network is very small, we do not split the edges into val/test sets\n",
        "train_edge = torch.cat([pos_edge_index, neg_edge_index], dim=1)\n",
        "print(train_edge.shape)\n",
        "\n",
        "train(emb, loss_fn, train_label, train_edge)"
      ],
      "execution_count": 18,
      "outputs": [
        {
          "output_type": "stream",
          "name": "stdout",
          "text": [
            "torch.Size([2, 78])\n",
            "torch.Size([2, 156])\n",
            "Epoch 0: loss is 1.8833688497543335. accuracy is 0.5128205418586731.\n",
            "Epoch 1: loss is 1.873349666595459. accuracy is 0.5128205418586731.\n",
            "Epoch 2: loss is 1.8544172048568726. accuracy is 0.5128205418586731.\n",
            "Epoch 3: loss is 1.8279706239700317. accuracy is 0.5128205418586731.\n",
            "Epoch 4: loss is 1.794796109199524. accuracy is 0.5192307829856873.\n",
            "Epoch 5: loss is 1.7557103633880615. accuracy is 0.5320512652397156.\n",
            "Epoch 6: loss is 1.7117955684661865. accuracy is 0.5320512652397156.\n",
            "Epoch 7: loss is 1.664162516593933. accuracy is 0.5448718070983887.\n",
            "Epoch 8: loss is 1.6132599115371704. accuracy is 0.5512820482254028.\n",
            "Epoch 9: loss is 1.560062050819397. accuracy is 0.5641025900840759.\n",
            "Epoch 10: loss is 1.5051223039627075. accuracy is 0.5705128312110901.\n",
            "Epoch 11: loss is 1.448944330215454. accuracy is 0.5705128312110901.\n",
            "Epoch 12: loss is 1.3921838998794556. accuracy is 0.5705128312110901.\n",
            "Epoch 13: loss is 1.3351479768753052. accuracy is 0.5769230723381042.\n",
            "Epoch 14: loss is 1.2783147096633911. accuracy is 0.5833333134651184.\n",
            "Epoch 15: loss is 1.2219905853271484. accuracy is 0.5897436141967773.\n",
            "Epoch 16: loss is 1.1664321422576904. accuracy is 0.5961538553237915.\n",
            "Epoch 17: loss is 1.111894130706787. accuracy is 0.6025640964508057.\n",
            "Epoch 18: loss is 1.0585858821868896. accuracy is 0.6217948794364929.\n",
            "Epoch 19: loss is 1.0066964626312256. accuracy is 0.6410256624221802.\n",
            "Epoch 20: loss is 0.9563883543014526. accuracy is 0.6602563858032227.\n",
            "Epoch 21: loss is 0.9078077673912048. accuracy is 0.6730769276618958.\n",
            "Epoch 22: loss is 0.8611012697219849. accuracy is 0.6858974099159241.\n",
            "Epoch 23: loss is 0.8163973093032837. accuracy is 0.6858974099159241.\n",
            "Epoch 24: loss is 0.7738098502159119. accuracy is 0.6858974099159241.\n",
            "Epoch 25: loss is 0.7334192991256714. accuracy is 0.6794871687889099.\n",
            "Epoch 26: loss is 0.6952720284461975. accuracy is 0.692307710647583.\n",
            "Epoch 27: loss is 0.6593592762947083. accuracy is 0.7179487347602844.\n",
            "Epoch 28: loss is 0.6256265640258789. accuracy is 0.7371794581413269.\n",
            "Epoch 29: loss is 0.5939792394638062. accuracy is 0.7435897588729858.\n",
            "Epoch 30: loss is 0.5642980933189392. accuracy is 0.7692307829856873.\n",
            "Epoch 31: loss is 0.5364516973495483. accuracy is 0.7820512652397156.\n",
            "Epoch 32: loss is 0.510308563709259. accuracy is 0.7948718070983887.\n",
            "Epoch 33: loss is 0.4857436418533325. accuracy is 0.8012820482254028.\n",
            "Epoch 34: loss is 0.4626415967941284. accuracy is 0.8205128312110901.\n",
            "Epoch 35: loss is 0.44089898467063904. accuracy is 0.8333333134651184.\n",
            "Epoch 36: loss is 0.4204236567020416. accuracy is 0.8589743375778198.\n",
            "Epoch 37: loss is 0.40113434195518494. accuracy is 0.8653846383094788.\n",
            "Epoch 38: loss is 0.38295847177505493. accuracy is 0.8653846383094788.\n",
            "Epoch 39: loss is 0.36583060026168823. accuracy is 0.8653846383094788.\n",
            "Epoch 40: loss is 0.34969112277030945. accuracy is 0.8653846383094788.\n",
            "Epoch 41: loss is 0.3344848155975342. accuracy is 0.8846153616905212.\n",
            "Epoch 42: loss is 0.320160448551178. accuracy is 0.8910256624221802.\n",
            "Epoch 43: loss is 0.30667033791542053. accuracy is 0.9038461446762085.\n",
            "Epoch 44: loss is 0.29397034645080566. accuracy is 0.9102563858032227.\n",
            "Epoch 45: loss is 0.28201985359191895. accuracy is 0.9166666865348816.\n",
            "Epoch 46: loss is 0.2707814872264862. accuracy is 0.9230769276618958.\n",
            "Epoch 47: loss is 0.2602207362651825. accuracy is 0.9358974099159241.\n",
            "Epoch 48: loss is 0.2503053545951843. accuracy is 0.942307710647583.\n",
            "Epoch 49: loss is 0.2410043627023697. accuracy is 0.942307710647583.\n",
            "Epoch 50: loss is 0.2322871834039688. accuracy is 0.9487179517745972.\n",
            "Epoch 51: loss is 0.22412295639514923. accuracy is 0.9551281929016113.\n",
            "Epoch 52: loss is 0.21647988259792328. accuracy is 0.9551281929016113.\n",
            "Epoch 53: loss is 0.20932555198669434. accuracy is 0.9679487347602844.\n",
            "Epoch 54: loss is 0.20262694358825684. accuracy is 0.9679487347602844.\n",
            "Epoch 55: loss is 0.1963512897491455. accuracy is 0.9679487347602844.\n",
            "Epoch 56: loss is 0.19046656787395477. accuracy is 0.9679487347602844.\n",
            "Epoch 57: loss is 0.18494203686714172. accuracy is 0.9679487347602844.\n",
            "Epoch 58: loss is 0.1797487586736679. accuracy is 0.9679487347602844.\n",
            "Epoch 59: loss is 0.17485976219177246. accuracy is 0.9743589758872986.\n",
            "Epoch 60: loss is 0.17025016248226166. accuracy is 0.9743589758872986.\n",
            "Epoch 61: loss is 0.16589714586734772. accuracy is 0.9743589758872986.\n",
            "Epoch 62: loss is 0.16177985072135925. accuracy is 0.9807692170143127.\n",
            "Epoch 63: loss is 0.15787924826145172. accuracy is 0.9871794581413269.\n",
            "Epoch 64: loss is 0.15417812764644623. accuracy is 0.9871794581413269.\n",
            "Epoch 65: loss is 0.15066073834896088. accuracy is 0.9871794581413269.\n",
            "Epoch 66: loss is 0.14731280505657196. accuracy is 0.9871794581413269.\n",
            "Epoch 67: loss is 0.14412128925323486. accuracy is 0.9871794581413269.\n",
            "Epoch 68: loss is 0.14107449352741241. accuracy is 0.9871794581413269.\n",
            "Epoch 69: loss is 0.13816162943840027. accuracy is 0.9935897588729858.\n",
            "Epoch 70: loss is 0.13537299633026123. accuracy is 0.9935897588729858.\n",
            "Epoch 71: loss is 0.13269972801208496. accuracy is 1.0.\n",
            "Epoch 72: loss is 0.13013385236263275. accuracy is 1.0.\n",
            "Epoch 73: loss is 0.12766800820827484. accuracy is 1.0.\n",
            "Epoch 74: loss is 0.12529560923576355. accuracy is 1.0.\n",
            "Epoch 75: loss is 0.12301062047481537. accuracy is 1.0.\n",
            "Epoch 76: loss is 0.12080756574869156. accuracy is 1.0.\n",
            "Epoch 77: loss is 0.11868143081665039. accuracy is 1.0.\n",
            "Epoch 78: loss is 0.11662767082452774. accuracy is 1.0.\n",
            "Epoch 79: loss is 0.11464214324951172. accuracy is 1.0.\n",
            "Epoch 80: loss is 0.11272098869085312. accuracy is 1.0.\n",
            "Epoch 81: loss is 0.11086078733205795. accuracy is 1.0.\n",
            "Epoch 82: loss is 0.10905829817056656. accuracy is 1.0.\n",
            "Epoch 83: loss is 0.10731054842472076. accuracy is 1.0.\n",
            "Epoch 84: loss is 0.10561483353376389. accuracy is 1.0.\n",
            "Epoch 85: loss is 0.10396864265203476. accuracy is 1.0.\n",
            "Epoch 86: loss is 0.10236963629722595. accuracy is 1.0.\n",
            "Epoch 87: loss is 0.10081562399864197. accuracy is 1.0.\n",
            "Epoch 88: loss is 0.09930459409952164. accuracy is 1.0.\n",
            "Epoch 89: loss is 0.09783465415239334. accuracy is 1.0.\n",
            "Epoch 90: loss is 0.09640402346849442. accuracy is 1.0.\n",
            "Epoch 91: loss is 0.09501107037067413. accuracy is 1.0.\n",
            "Epoch 92: loss is 0.09365420043468475. accuracy is 1.0.\n",
            "Epoch 93: loss is 0.09233196824789047. accuracy is 1.0.\n",
            "Epoch 94: loss is 0.09104299545288086. accuracy is 1.0.\n",
            "Epoch 95: loss is 0.08978597074747086. accuracy is 1.0.\n",
            "Epoch 96: loss is 0.08855966478586197. accuracy is 1.0.\n",
            "Epoch 97: loss is 0.08736292272806168. accuracy is 1.0.\n",
            "Epoch 98: loss is 0.08619462698698044. accuracy is 1.0.\n",
            "Epoch 99: loss is 0.08505373448133469. accuracy is 1.0.\n",
            "Epoch 100: loss is 0.08393926173448563. accuracy is 1.0.\n",
            "Epoch 101: loss is 0.08285028487443924. accuracy is 1.0.\n",
            "Epoch 102: loss is 0.08178587257862091. accuracy is 1.0.\n",
            "Epoch 103: loss is 0.08074520528316498. accuracy is 1.0.\n",
            "Epoch 104: loss is 0.07972747832536697. accuracy is 1.0.\n",
            "Epoch 105: loss is 0.07873191684484482. accuracy is 1.0.\n",
            "Epoch 106: loss is 0.07775777578353882. accuracy is 1.0.\n",
            "Epoch 107: loss is 0.07680438458919525. accuracy is 1.0.\n",
            "Epoch 108: loss is 0.0758710727095604. accuracy is 1.0.\n",
            "Epoch 109: loss is 0.07495719939470291. accuracy is 1.0.\n",
            "Epoch 110: loss is 0.07406217604875565. accuracy is 1.0.\n",
            "Epoch 111: loss is 0.07318542897701263. accuracy is 1.0.\n",
            "Epoch 112: loss is 0.0723264068365097. accuracy is 1.0.\n",
            "Epoch 113: loss is 0.07148457318544388. accuracy is 1.0.\n",
            "Epoch 114: loss is 0.07065943628549576. accuracy is 1.0.\n",
            "Epoch 115: loss is 0.06985051929950714. accuracy is 1.0.\n",
            "Epoch 116: loss is 0.06905736029148102. accuracy is 1.0.\n",
            "Epoch 117: loss is 0.06827951222658157. accuracy is 1.0.\n",
            "Epoch 118: loss is 0.06751655042171478. accuracy is 1.0.\n",
            "Epoch 119: loss is 0.0667680874466896. accuracy is 1.0.\n",
            "Epoch 120: loss is 0.0660337284207344. accuracy is 1.0.\n",
            "Epoch 121: loss is 0.06531309336423874. accuracy is 1.0.\n",
            "Epoch 122: loss is 0.06460583209991455. accuracy is 1.0.\n",
            "Epoch 123: loss is 0.06391157954931259. accuracy is 1.0.\n",
            "Epoch 124: loss is 0.06323002278804779. accuracy is 1.0.\n",
            "Epoch 125: loss is 0.06256083399057388. accuracy is 1.0.\n",
            "Epoch 126: loss is 0.0619037039577961. accuracy is 1.0.\n",
            "Epoch 127: loss is 0.06125832349061966. accuracy is 1.0.\n",
            "Epoch 128: loss is 0.060624416917562485. accuracy is 1.0.\n",
            "Epoch 129: loss is 0.06000170484185219. accuracy is 1.0.\n",
            "Epoch 130: loss is 0.05938991531729698. accuracy is 1.0.\n",
            "Epoch 131: loss is 0.05878877639770508. accuracy is 1.0.\n",
            "Epoch 132: loss is 0.058198049664497375. accuracy is 1.0.\n",
            "Epoch 133: loss is 0.05761748179793358. accuracy is 1.0.\n",
            "Epoch 134: loss is 0.057046860456466675. accuracy is 1.0.\n",
            "Epoch 135: loss is 0.056485921144485474. accuracy is 1.0.\n",
            "Epoch 136: loss is 0.05593445897102356. accuracy is 1.0.\n",
            "Epoch 137: loss is 0.05539225786924362. accuracy is 1.0.\n",
            "Epoch 138: loss is 0.05485910177230835. accuracy is 1.0.\n",
            "Epoch 139: loss is 0.054334793239831924. accuracy is 1.0.\n",
            "Epoch 140: loss is 0.05381912365555763. accuracy is 1.0.\n",
            "Epoch 141: loss is 0.053311921656131744. accuracy is 1.0.\n",
            "Epoch 142: loss is 0.05281298607587814. accuracy is 1.0.\n",
            "Epoch 143: loss is 0.052322130650281906. accuracy is 1.0.\n",
            "Epoch 144: loss is 0.0518391914665699. accuracy is 1.0.\n",
            "Epoch 145: loss is 0.0513639859855175. accuracy is 1.0.\n",
            "Epoch 146: loss is 0.05089636519551277. accuracy is 1.0.\n",
            "Epoch 147: loss is 0.05043613165616989. accuracy is 1.0.\n",
            "Epoch 148: loss is 0.04998315870761871. accuracy is 1.0.\n",
            "Epoch 149: loss is 0.04953727871179581. accuracy is 1.0.\n",
            "Epoch 150: loss is 0.04909835010766983. accuracy is 1.0.\n",
            "Epoch 151: loss is 0.04866620525717735. accuracy is 1.0.\n",
            "Epoch 152: loss is 0.048240721225738525. accuracy is 1.0.\n",
            "Epoch 153: loss is 0.0478217676281929. accuracy is 1.0.\n",
            "Epoch 154: loss is 0.04740918055176735. accuracy is 1.0.\n",
            "Epoch 155: loss is 0.04700285196304321. accuracy is 1.0.\n",
            "Epoch 156: loss is 0.04660264030098915. accuracy is 1.0.\n",
            "Epoch 157: loss is 0.04620843008160591. accuracy is 1.0.\n",
            "Epoch 158: loss is 0.045820094645023346. accuracy is 1.0.\n",
            "Epoch 159: loss is 0.04543750360608101. accuracy is 1.0.\n",
            "Epoch 160: loss is 0.04506054148077965. accuracy is 1.0.\n",
            "Epoch 161: loss is 0.0446891188621521. accuracy is 1.0.\n",
            "Epoch 162: loss is 0.04432310163974762. accuracy is 1.0.\n",
            "Epoch 163: loss is 0.043962396681308746. accuracy is 1.0.\n",
            "Epoch 164: loss is 0.04360688850283623. accuracy is 1.0.\n",
            "Epoch 165: loss is 0.043256476521492004. accuracy is 1.0.\n",
            "Epoch 166: loss is 0.04291105270385742. accuracy is 1.0.\n",
            "Epoch 167: loss is 0.042570535093545914. accuracy is 1.0.\n",
            "Epoch 168: loss is 0.04223481938242912. accuracy is 1.0.\n",
            "Epoch 169: loss is 0.04190381243824959. accuracy is 1.0.\n",
            "Epoch 170: loss is 0.04157743230462074. accuracy is 1.0.\n",
            "Epoch 171: loss is 0.04125556722283363. accuracy is 1.0.\n",
            "Epoch 172: loss is 0.04093815013766289. accuracy is 1.0.\n",
            "Epoch 173: loss is 0.04062509164214134. accuracy is 1.0.\n",
            "Epoch 174: loss is 0.040316302329301834. accuracy is 1.0.\n",
            "Epoch 175: loss is 0.04001171141862869. accuracy is 1.0.\n",
            "Epoch 176: loss is 0.03971124440431595. accuracy is 1.0.\n",
            "Epoch 177: loss is 0.039414796978235245. accuracy is 1.0.\n",
            "Epoch 178: loss is 0.039122313261032104. accuracy is 1.0.\n",
            "Epoch 179: loss is 0.03883372247219086. accuracy is 1.0.\n",
            "Epoch 180: loss is 0.03854895383119583. accuracy is 1.0.\n",
            "Epoch 181: loss is 0.038267917931079865. accuracy is 1.0.\n",
            "Epoch 182: loss is 0.03799055889248848. accuracy is 1.0.\n",
            "Epoch 183: loss is 0.037716809660196304. accuracy is 1.0.\n",
            "Epoch 184: loss is 0.03744661062955856. accuracy is 1.0.\n",
            "Epoch 185: loss is 0.03717988729476929. accuracy is 1.0.\n",
            "Epoch 186: loss is 0.0369165763258934. accuracy is 1.0.\n",
            "Epoch 187: loss is 0.03665663301944733. accuracy is 1.0.\n",
            "Epoch 188: loss is 0.036399975419044495. accuracy is 1.0.\n",
            "Epoch 189: loss is 0.03614654764533043. accuracy is 1.0.\n",
            "Epoch 190: loss is 0.03589630872011185. accuracy is 1.0.\n",
            "Epoch 191: loss is 0.03564918041229248. accuracy is 1.0.\n",
            "Epoch 192: loss is 0.03540513291954994. accuracy is 1.0.\n",
            "Epoch 193: loss is 0.03516409173607826. accuracy is 1.0.\n",
            "Epoch 194: loss is 0.03492601960897446. accuracy is 1.0.\n",
            "Epoch 195: loss is 0.03469084948301315. accuracy is 1.0.\n",
            "Epoch 196: loss is 0.03445854410529137. accuracy is 1.0.\n",
            "Epoch 197: loss is 0.03422904759645462. accuracy is 1.0.\n",
            "Epoch 198: loss is 0.034002311527729034. accuracy is 1.0.\n",
            "Epoch 199: loss is 0.033778294920921326. accuracy is 1.0.\n",
            "Epoch 200: loss is 0.033556945621967316. accuracy is 1.0.\n",
            "Epoch 201: loss is 0.03333821892738342. accuracy is 1.0.\n",
            "Epoch 202: loss is 0.033122070133686066. accuracy is 1.0.\n",
            "Epoch 203: loss is 0.03290846198797226. accuracy is 1.0.\n",
            "Epoch 204: loss is 0.03269734978675842. accuracy is 1.0.\n",
            "Epoch 205: loss is 0.03248868137598038. accuracy is 1.0.\n",
            "Epoch 206: loss is 0.03228243067860603. accuracy is 1.0.\n",
            "Epoch 207: loss is 0.03207856044173241. accuracy is 1.0.\n",
            "Epoch 208: loss is 0.03187701478600502. accuracy is 1.0.\n",
            "Epoch 209: loss is 0.031677763909101486. accuracy is 1.0.\n",
            "Epoch 210: loss is 0.031480785459280014. accuracy is 1.0.\n",
            "Epoch 211: loss is 0.03128601238131523. accuracy is 1.0.\n",
            "Epoch 212: loss is 0.031093435361981392. accuracy is 1.0.\n",
            "Epoch 213: loss is 0.030903002247214317. accuracy is 1.0.\n",
            "Epoch 214: loss is 0.030714692547917366. accuracy is 1.0.\n",
            "Epoch 215: loss is 0.030528465285897255. accuracy is 1.0.\n",
            "Epoch 216: loss is 0.030344290658831596. accuracy is 1.0.\n",
            "Epoch 217: loss is 0.030162129551172256. accuracy is 1.0.\n",
            "Epoch 218: loss is 0.029981957748532295. accuracy is 1.0.\n",
            "Epoch 219: loss is 0.02980373427271843. accuracy is 1.0.\n",
            "Epoch 220: loss is 0.029627447947859764. accuracy is 1.0.\n",
            "Epoch 221: loss is 0.02945304475724697. accuracy is 1.0.\n",
            "Epoch 222: loss is 0.029280515387654305. accuracy is 1.0.\n",
            "Epoch 223: loss is 0.029109826311469078. accuracy is 1.0.\n",
            "Epoch 224: loss is 0.028940944001078606. accuracy is 1.0.\n",
            "Epoch 225: loss is 0.028773842379450798. accuracy is 1.0.\n",
            "Epoch 226: loss is 0.02860848791897297. accuracy is 1.0.\n",
            "Epoch 227: loss is 0.028444867581129074. accuracy is 1.0.\n",
            "Epoch 228: loss is 0.02828296087682247. accuracy is 1.0.\n",
            "Epoch 229: loss is 0.02812271937727928. accuracy is 1.0.\n",
            "Epoch 230: loss is 0.027964135631918907. accuracy is 1.0.\n",
            "Epoch 231: loss is 0.02780717983841896. accuracy is 1.0.\n",
            "Epoch 232: loss is 0.027651820331811905. accuracy is 1.0.\n",
            "Epoch 233: loss is 0.027498044073581696. accuracy is 1.0.\n",
            "Epoch 234: loss is 0.027345828711986542. accuracy is 1.0.\n",
            "Epoch 235: loss is 0.027195148169994354. accuracy is 1.0.\n",
            "Epoch 236: loss is 0.027045978233218193. accuracy is 1.0.\n",
            "Epoch 237: loss is 0.026898298412561417. accuracy is 1.0.\n",
            "Epoch 238: loss is 0.026752086356282234. accuracy is 1.0.\n",
            "Epoch 239: loss is 0.026607323437929153. accuracy is 1.0.\n",
            "Epoch 240: loss is 0.026463991031050682. accuracy is 1.0.\n",
            "Epoch 241: loss is 0.026322055608034134. accuracy is 1.0.\n",
            "Epoch 242: loss is 0.02618151530623436. accuracy is 1.0.\n",
            "Epoch 243: loss is 0.026042338460683823. accuracy is 1.0.\n",
            "Epoch 244: loss is 0.025904515758156776. accuracy is 1.0.\n",
            "Epoch 245: loss is 0.025768017396330833. accuracy is 1.0.\n",
            "Epoch 246: loss is 0.025632834061980247. accuracy is 1.0.\n",
            "Epoch 247: loss is 0.02549893967807293. accuracy is 1.0.\n",
            "Epoch 248: loss is 0.025366324931383133. accuracy is 1.0.\n",
            "Epoch 249: loss is 0.02523496188223362. accuracy is 1.0.\n",
            "Epoch 250: loss is 0.025104844942688942. accuracy is 1.0.\n",
            "Epoch 251: loss is 0.02497594803571701. accuracy is 1.0.\n",
            "Epoch 252: loss is 0.02484825626015663. accuracy is 1.0.\n",
            "Epoch 253: loss is 0.02472176030278206. accuracy is 1.0.\n",
            "Epoch 254: loss is 0.02459643967449665. accuracy is 1.0.\n",
            "Epoch 255: loss is 0.024472272023558617. accuracy is 1.0.\n",
            "Epoch 256: loss is 0.02434925176203251. accuracy is 1.0.\n",
            "Epoch 257: loss is 0.024227360263466835. accuracy is 1.0.\n",
            "Epoch 258: loss is 0.024106575176119804. accuracy is 1.0.\n",
            "Epoch 259: loss is 0.02398689277470112. accuracy is 1.0.\n",
            "Epoch 260: loss is 0.023868301883339882. accuracy is 1.0.\n",
            "Epoch 261: loss is 0.023750772699713707. accuracy is 1.0.\n",
            "Epoch 262: loss is 0.023634301498532295. accuracy is 1.0.\n",
            "Epoch 263: loss is 0.023518873378634453. accuracy is 1.0.\n",
            "Epoch 264: loss is 0.023404471576213837. accuracy is 1.0.\n",
            "Epoch 265: loss is 0.023291090503335. accuracy is 1.0.\n",
            "Epoch 266: loss is 0.023178700357675552. accuracy is 1.0.\n",
            "Epoch 267: loss is 0.023067308589816093. accuracy is 1.0.\n",
            "Epoch 268: loss is 0.02295689657330513. accuracy is 1.0.\n",
            "Epoch 269: loss is 0.02284744381904602. accuracy is 1.0.\n",
            "Epoch 270: loss is 0.022738946601748466. accuracy is 1.0.\n",
            "Epoch 271: loss is 0.022631388157606125. accuracy is 1.0.\n",
            "Epoch 272: loss is 0.022524762898683548. accuracy is 1.0.\n",
            "Epoch 273: loss is 0.022419052198529243. accuracy is 1.0.\n",
            "Epoch 274: loss is 0.022314243018627167. accuracy is 1.0.\n",
            "Epoch 275: loss is 0.022210335358977318. accuracy is 1.0.\n",
            "Epoch 276: loss is 0.022107306867837906. accuracy is 1.0.\n",
            "Epoch 277: loss is 0.022005153819918633. accuracy is 1.0.\n",
            "Epoch 278: loss is 0.021903859451413155. accuracy is 1.0.\n",
            "Epoch 279: loss is 0.021803418174386024. accuracy is 1.0.\n",
            "Epoch 280: loss is 0.021703818812966347. accuracy is 1.0.\n",
            "Epoch 281: loss is 0.021605050191283226. accuracy is 1.0.\n",
            "Epoch 282: loss is 0.02150709554553032. accuracy is 1.0.\n",
            "Epoch 283: loss is 0.021409964188933372. accuracy is 1.0.\n",
            "Epoch 284: loss is 0.0213136225938797. accuracy is 1.0.\n",
            "Epoch 285: loss is 0.021218081936240196. accuracy is 1.0.\n",
            "Epoch 286: loss is 0.02112331986427307. accuracy is 1.0.\n",
            "Epoch 287: loss is 0.021029332652688026. accuracy is 1.0.\n",
            "Epoch 288: loss is 0.020936105400323868. accuracy is 1.0.\n",
            "Epoch 289: loss is 0.020843632519245148. accuracy is 1.0.\n",
            "Epoch 290: loss is 0.020751914009451866. accuracy is 1.0.\n",
            "Epoch 291: loss is 0.020660923793911934. accuracy is 1.0.\n",
            "Epoch 292: loss is 0.0205706637352705. accuracy is 1.0.\n",
            "Epoch 293: loss is 0.020481130108237267. accuracy is 1.0.\n",
            "Epoch 294: loss is 0.02039230242371559. accuracy is 1.0.\n",
            "Epoch 295: loss is 0.020304182544350624. accuracy is 1.0.\n",
            "Epoch 296: loss is 0.02021675929427147. accuracy is 1.0.\n",
            "Epoch 297: loss is 0.020130017772316933. accuracy is 1.0.\n",
            "Epoch 298: loss is 0.020043957978487015. accuracy is 1.0.\n",
            "Epoch 299: loss is 0.019958576187491417. accuracy is 1.0.\n",
            "Epoch 300: loss is 0.019873851910233498. accuracy is 1.0.\n",
            "Epoch 301: loss is 0.019789790734648705. accuracy is 1.0.\n",
            "Epoch 302: loss is 0.019706374034285545. accuracy is 1.0.\n",
            "Epoch 303: loss is 0.01962360180914402. accuracy is 1.0.\n",
            "Epoch 304: loss is 0.01954147033393383. accuracy is 1.0.\n",
            "Epoch 305: loss is 0.019459957256913185. accuracy is 1.0.\n",
            "Epoch 306: loss is 0.01937907561659813. accuracy is 1.0.\n",
            "Epoch 307: loss is 0.01929880492389202. accuracy is 1.0.\n",
            "Epoch 308: loss is 0.019219134002923965. accuracy is 1.0.\n",
            "Epoch 309: loss is 0.01914006844162941. accuracy is 1.0.\n",
            "Epoch 310: loss is 0.019061602652072906. accuracy is 1.0.\n",
            "Epoch 311: loss is 0.01898372545838356. accuracy is 1.0.\n",
            "Epoch 312: loss is 0.018906423822045326. accuracy is 1.0.\n",
            "Epoch 313: loss is 0.018829697743058205. accuracy is 1.0.\n",
            "Epoch 314: loss is 0.018753545358777046. accuracy is 1.0.\n",
            "Epoch 315: loss is 0.018677949905395508. accuracy is 1.0.\n",
            "Epoch 316: loss is 0.01860291324555874. accuracy is 1.0.\n",
            "Epoch 317: loss is 0.01852843165397644. accuracy is 1.0.\n",
            "Epoch 318: loss is 0.018454493954777718. accuracy is 1.0.\n",
            "Epoch 319: loss is 0.018381090834736824. accuracy is 1.0.\n",
            "Epoch 320: loss is 0.018308226019144058. accuracy is 1.0.\n",
            "Epoch 321: loss is 0.018235888332128525. accuracy is 1.0.\n",
            "Epoch 322: loss is 0.018164075911045074. accuracy is 1.0.\n",
            "Epoch 323: loss is 0.01809277944266796. accuracy is 1.0.\n",
            "Epoch 324: loss is 0.01802198961377144. accuracy is 1.0.\n",
            "Epoch 325: loss is 0.017951710149645805. accuracy is 1.0.\n",
            "Epoch 326: loss is 0.017881933599710464. accuracy is 1.0.\n",
            "Epoch 327: loss is 0.01781264692544937. accuracy is 1.0.\n",
            "Epoch 328: loss is 0.017743859440088272. accuracy is 1.0.\n",
            "Epoch 329: loss is 0.017675552517175674. accuracy is 1.0.\n",
            "Epoch 330: loss is 0.01760772243142128. accuracy is 1.0.\n",
            "Epoch 331: loss is 0.017540376633405685. accuracy is 1.0.\n",
            "Epoch 332: loss is 0.0174734964966774. accuracy is 1.0.\n",
            "Epoch 333: loss is 0.01740708202123642. accuracy is 1.0.\n",
            "Epoch 334: loss is 0.017341138795018196. accuracy is 1.0.\n",
            "Epoch 335: loss is 0.01727563701570034. accuracy is 1.0.\n",
            "Epoch 336: loss is 0.017210593447089195. accuracy is 1.0.\n",
            "Epoch 337: loss is 0.017146006226539612. accuracy is 1.0.\n",
            "Epoch 338: loss is 0.0170818530023098. accuracy is 1.0.\n",
            "Epoch 339: loss is 0.017018141224980354. accuracy is 1.0.\n",
            "Epoch 340: loss is 0.016954869031906128. accuracy is 1.0.\n",
            "Epoch 341: loss is 0.016892021521925926. accuracy is 1.0.\n",
            "Epoch 342: loss is 0.01682959496974945. accuracy is 1.0.\n",
            "Epoch 343: loss is 0.016767600551247597. accuracy is 1.0.\n",
            "Epoch 344: loss is 0.016706017777323723. accuracy is 1.0.\n",
            "Epoch 345: loss is 0.016644855961203575. accuracy is 1.0.\n",
            "Epoch 346: loss is 0.016584094613790512. accuracy is 1.0.\n",
            "Epoch 347: loss is 0.01652373932301998. accuracy is 1.0.\n",
            "Epoch 348: loss is 0.01646379567682743. accuracy is 1.0.\n",
            "Epoch 349: loss is 0.01640424318611622. accuracy is 1.0.\n",
            "Epoch 350: loss is 0.016345085576176643. accuracy is 1.0.\n",
            "Epoch 351: loss is 0.016286317259073257. accuracy is 1.0.\n",
            "Epoch 352: loss is 0.01622793637216091. accuracy is 1.0.\n",
            "Epoch 353: loss is 0.016169939190149307. accuracy is 1.0.\n",
            "Epoch 354: loss is 0.0161123163998127. accuracy is 1.0.\n",
            "Epoch 355: loss is 0.016055069863796234. accuracy is 1.0.\n",
            "Epoch 356: loss is 0.015998201444745064. accuracy is 1.0.\n",
            "Epoch 357: loss is 0.01594170182943344. accuracy is 1.0.\n",
            "Epoch 358: loss is 0.01588556170463562. accuracy is 1.0.\n",
            "Epoch 359: loss is 0.01582978665828705. accuracy is 1.0.\n",
            "Epoch 360: loss is 0.01577436737716198. accuracy is 1.0.\n",
            "Epoch 361: loss is 0.015719309449195862. accuracy is 1.0.\n",
            "Epoch 362: loss is 0.0156645979732275. accuracy is 1.0.\n",
            "Epoch 363: loss is 0.015610234811902046. accuracy is 1.0.\n",
            "Epoch 364: loss is 0.015556218102574348. accuracy is 1.0.\n",
            "Epoch 365: loss is 0.015502541325986385. accuracy is 1.0.\n",
            "Epoch 366: loss is 0.01544920913875103. accuracy is 1.0.\n",
            "Epoch 367: loss is 0.015396203845739365. accuracy is 1.0.\n",
            "Epoch 368: loss is 0.015343539416790009. accuracy is 1.0.\n",
            "Epoch 369: loss is 0.015291201882064342. accuracy is 1.0.\n",
            "Epoch 370: loss is 0.015239186584949493. accuracy is 1.0.\n",
            "Epoch 371: loss is 0.015187501907348633. accuracy is 1.0.\n",
            "Epoch 372: loss is 0.01513613760471344. accuracy is 1.0.\n",
            "Epoch 373: loss is 0.01508508250117302. accuracy is 1.0.\n",
            "Epoch 374: loss is 0.015034351497888565. accuracy is 1.0.\n",
            "Epoch 375: loss is 0.014983933418989182. accuracy is 1.0.\n",
            "Epoch 376: loss is 0.014933817088603973. accuracy is 1.0.\n",
            "Epoch 377: loss is 0.014884013682603836. accuracy is 1.0.\n",
            "Epoch 378: loss is 0.014834512956440449. accuracy is 1.0.\n",
            "Epoch 379: loss is 0.014785311184823513. accuracy is 1.0.\n",
            "Epoch 380: loss is 0.014736412093043327. accuracy is 1.0.\n",
            "Epoch 381: loss is 0.014687805436551571. accuracy is 1.0.\n",
            "Epoch 382: loss is 0.014639494940638542. accuracy is 1.0.\n",
            "Epoch 383: loss is 0.014591476880013943. accuracy is 1.0.\n",
            "Epoch 384: loss is 0.014543741010129452. accuracy is 1.0.\n",
            "Epoch 385: loss is 0.014496292918920517. accuracy is 1.0.\n",
            "Epoch 386: loss is 0.014449138194322586. accuracy is 1.0.\n",
            "Epoch 387: loss is 0.01440224889665842. accuracy is 1.0.\n",
            "Epoch 388: loss is 0.01435564924031496. accuracy is 1.0.\n",
            "Epoch 389: loss is 0.014309323392808437. accuracy is 1.0.\n",
            "Epoch 390: loss is 0.014263264834880829. accuracy is 1.0.\n",
            "Epoch 391: loss is 0.014217477291822433. accuracy is 1.0.\n",
            "Epoch 392: loss is 0.014171970076858997. accuracy is 1.0.\n",
            "Epoch 393: loss is 0.014126725494861603. accuracy is 1.0.\n",
            "Epoch 394: loss is 0.014081739820539951. accuracy is 1.0.\n",
            "Epoch 395: loss is 0.01403702050447464. accuracy is 1.0.\n",
            "Epoch 396: loss is 0.01399256195873022. accuracy is 1.0.\n",
            "Epoch 397: loss is 0.013948356732726097. accuracy is 1.0.\n",
            "Epoch 398: loss is 0.013904409483075142. accuracy is 1.0.\n",
            "Epoch 399: loss is 0.013860714621841908. accuracy is 1.0.\n",
            "Epoch 400: loss is 0.013817274942994118. accuracy is 1.0.\n",
            "Epoch 401: loss is 0.013774086721241474. accuracy is 1.0.\n",
            "Epoch 402: loss is 0.013731146231293678. accuracy is 1.0.\n",
            "Epoch 403: loss is 0.013688438571989536. accuracy is 1.0.\n",
            "Epoch 404: loss is 0.013645983301103115. accuracy is 1.0.\n",
            "Epoch 405: loss is 0.013603771105408669. accuracy is 1.0.\n",
            "Epoch 406: loss is 0.01356179267168045. accuracy is 1.0.\n",
            "Epoch 407: loss is 0.013520054519176483. accuracy is 1.0.\n",
            "Epoch 408: loss is 0.01347854919731617. accuracy is 1.0.\n",
            "Epoch 409: loss is 0.013437281362712383. accuracy is 1.0.\n",
            "Epoch 410: loss is 0.013396238908171654. accuracy is 1.0.\n",
            "Epoch 411: loss is 0.013355432078242302. accuracy is 1.0.\n",
            "Epoch 412: loss is 0.013314850628376007. accuracy is 1.0.\n",
            "Epoch 413: loss is 0.013274495489895344. accuracy is 1.0.\n",
            "Epoch 414: loss is 0.013234362006187439. accuracy is 1.0.\n",
            "Epoch 415: loss is 0.013194453902542591. accuracy is 1.0.\n",
            "Epoch 416: loss is 0.013154766522347927. accuracy is 1.0.\n",
            "Epoch 417: loss is 0.013115296140313148. accuracy is 1.0.\n",
            "Epoch 418: loss is 0.01307604555040598. accuracy is 1.0.\n",
            "Epoch 419: loss is 0.013037007302045822. accuracy is 1.0.\n",
            "Epoch 420: loss is 0.012998178601264954. accuracy is 1.0.\n",
            "Epoch 421: loss is 0.01295956876128912. accuracy is 1.0.\n",
            "Epoch 422: loss is 0.012921164743602276. accuracy is 1.0.\n",
            "Epoch 423: loss is 0.012882971204817295. accuracy is 1.0.\n",
            "Epoch 424: loss is 0.012844987213611603. accuracy is 1.0.\n",
            "Epoch 425: loss is 0.012807205319404602. accuracy is 1.0.\n",
            "Epoch 426: loss is 0.012769627384841442. accuracy is 1.0.\n",
            "Epoch 427: loss is 0.01273224875330925. accuracy is 1.0.\n",
            "Epoch 428: loss is 0.012695067562162876. accuracy is 1.0.\n",
            "Epoch 429: loss is 0.012658094987273216. accuracy is 1.0.\n",
            "Epoch 430: loss is 0.012621315196156502. accuracy is 1.0.\n",
            "Epoch 431: loss is 0.012584730982780457. accuracy is 1.0.\n",
            "Epoch 432: loss is 0.012548347003757954. accuracy is 1.0.\n",
            "Epoch 433: loss is 0.012512143701314926. accuracy is 1.0.\n",
            "Epoch 434: loss is 0.012476141564548016. accuracy is 1.0.\n",
            "Epoch 435: loss is 0.012440326623618603. accuracy is 1.0.\n",
            "Epoch 436: loss is 0.01240469515323639. accuracy is 1.0.\n",
            "Epoch 437: loss is 0.01236925832927227. accuracy is 1.0.\n",
            "Epoch 438: loss is 0.012334007769823074. accuracy is 1.0.\n",
            "Epoch 439: loss is 0.012298932299017906. accuracy is 1.0.\n",
            "Epoch 440: loss is 0.012264048680663109. accuracy is 1.0.\n",
            "Epoch 441: loss is 0.01222934015095234. accuracy is 1.0.\n",
            "Epoch 442: loss is 0.012194815091788769. accuracy is 1.0.\n",
            "Epoch 443: loss is 0.0121604697778821. accuracy is 1.0.\n",
            "Epoch 444: loss is 0.012126291170716286. accuracy is 1.0.\n",
            "Epoch 445: loss is 0.012092302553355694. accuracy is 1.0.\n",
            "Epoch 446: loss is 0.01205847691744566. accuracy is 1.0.\n",
            "Epoch 447: loss is 0.01202483382076025. accuracy is 1.0.\n",
            "Epoch 448: loss is 0.011991363950073719. accuracy is 1.0.\n",
            "Epoch 449: loss is 0.011958056129515171. accuracy is 1.0.\n",
            "Epoch 450: loss is 0.011924924328923225. accuracy is 1.0.\n",
            "Epoch 451: loss is 0.011891963891685009. accuracy is 1.0.\n",
            "Epoch 452: loss is 0.011859164573252201. accuracy is 1.0.\n",
            "Epoch 453: loss is 0.011826533824205399. accuracy is 1.0.\n",
            "Epoch 454: loss is 0.011794062331318855. accuracy is 1.0.\n",
            "Epoch 455: loss is 0.011761760339140892. accuracy is 1.0.\n",
            "Epoch 456: loss is 0.011729615740478039. accuracy is 1.0.\n",
            "Epoch 457: loss is 0.011697635054588318. accuracy is 1.0.\n",
            "Epoch 458: loss is 0.011665811762213707. accuracy is 1.0.\n",
            "Epoch 459: loss is 0.011634152382612228. accuracy is 1.0.\n",
            "Epoch 460: loss is 0.011602645739912987. accuracy is 1.0.\n",
            "Epoch 461: loss is 0.01157129555940628. accuracy is 1.0.\n",
            "Epoch 462: loss is 0.011540105566382408. accuracy is 1.0.\n",
            "Epoch 463: loss is 0.0115090636536479. accuracy is 1.0.\n",
            "Epoch 464: loss is 0.011478175409138203. accuracy is 1.0.\n",
            "Epoch 465: loss is 0.011447443626821041. accuracy is 1.0.\n",
            "Epoch 466: loss is 0.011416854336857796. accuracy is 1.0.\n",
            "Epoch 467: loss is 0.011386426165699959. accuracy is 1.0.\n",
            "Epoch 468: loss is 0.011356141418218613. accuracy is 1.0.\n",
            "Epoch 469: loss is 0.01132600475102663. accuracy is 1.0.\n",
            "Epoch 470: loss is 0.011296015232801437. accuracy is 1.0.\n",
            "Epoch 471: loss is 0.011266171000897884. accuracy is 1.0.\n",
            "Epoch 472: loss is 0.011236472055315971. accuracy is 1.0.\n",
            "Epoch 473: loss is 0.011206913739442825. accuracy is 1.0.\n",
            "Epoch 474: loss is 0.011177502572536469. accuracy is 1.0.\n",
            "Epoch 475: loss is 0.011148229241371155. accuracy is 1.0.\n",
            "Epoch 476: loss is 0.011119096539914608. accuracy is 1.0.\n",
            "Epoch 477: loss is 0.011090102605521679. accuracy is 1.0.\n",
            "Epoch 478: loss is 0.011061250232160091. accuracy is 1.0.\n",
            "Epoch 479: loss is 0.011032533831894398. accuracy is 1.0.\n",
            "Epoch 480: loss is 0.011003957130014896. accuracy is 1.0.\n",
            "Epoch 481: loss is 0.010975513607263565. accuracy is 1.0.\n",
            "Epoch 482: loss is 0.010947205126285553. accuracy is 1.0.\n",
            "Epoch 483: loss is 0.010919032618403435. accuracy is 1.0.\n",
            "Epoch 484: loss is 0.010890988633036613. accuracy is 1.0.\n",
            "Epoch 485: loss is 0.01086308341473341. accuracy is 1.0.\n",
            "Epoch 486: loss is 0.01083530206233263. accuracy is 1.0.\n",
            "Epoch 487: loss is 0.010807652026414871. accuracy is 1.0.\n",
            "Epoch 488: loss is 0.01078014075756073. accuracy is 1.0.\n",
            "Epoch 489: loss is 0.010752747766673565. accuracy is 1.0.\n",
            "Epoch 490: loss is 0.010725484229624271. accuracy is 1.0.\n",
            "Epoch 491: loss is 0.01069835014641285. accuracy is 1.0.\n",
            "Epoch 492: loss is 0.010671340860426426. accuracy is 1.0.\n",
            "Epoch 493: loss is 0.010644455440342426. accuracy is 1.0.\n",
            "Epoch 494: loss is 0.010617701336741447. accuracy is 1.0.\n",
            "Epoch 495: loss is 0.010591058060526848. accuracy is 1.0.\n",
            "Epoch 496: loss is 0.01056454423815012. accuracy is 1.0.\n",
            "Epoch 497: loss is 0.010538153350353241. accuracy is 1.0.\n",
            "Epoch 498: loss is 0.010511886328458786. accuracy is 1.0.\n",
            "Epoch 499: loss is 0.01048573199659586. accuracy is 1.0.\n"
          ]
        },
        {
          "output_type": "execute_result",
          "data": {
            "text/plain": [
              "Embedding(34, 16)"
            ]
          },
          "metadata": {},
          "execution_count": 18
        }
      ]
    },
    {
      "cell_type": "markdown",
      "metadata": {
        "id": "WX2PSXnTDiNi"
      },
      "source": [
        "## Visualize the final node embeddings\n",
        "Visualize your final embedding here!\n",
        "You can visually compare the figure with the previous embedding figure.\n",
        "After training, you should oberserve that the two classes are more evidently separated.\n",
        "This is a great sanitity check for your implementation as well."
      ]
    },
    {
      "cell_type": "code",
      "metadata": {
        "id": "MtNgl4VhYKow",
        "colab": {
          "base_uri": "https://localhost:8080/",
          "height": 522
        },
        "outputId": "be430e42-43e1-4630-85fd-65bea1af4a77"
      },
      "source": [
        "# Visualize the final learned embedding\n",
        "visualize_emb(emb)"
      ],
      "execution_count": 19,
      "outputs": [
        {
          "output_type": "display_data",
          "data": {
            "text/plain": [
              "<Figure size 600x600 with 1 Axes>"
            ],
            "image/png": "[encoded data removed]"
          },
          "metadata": {}
        }
      ]
    },
    {
      "cell_type": "markdown",
      "metadata": {
        "id": "FTNyrAoSVeq9"
      },
      "source": [
        "# Submission"
      ]
    },
    {
      "cell_type": "markdown",
      "metadata": {
        "id": "E_E7J_GkVhY_"
      },
      "source": [
        "When you submit your assignment, you will have to download this file as an `.ipynb` file. Please name this file `CS224W_Colab_1.ipynb`. Make sure that the files are name correctly, otherwise the autograder will not be able to find your submission files."
      ]
    },
    {
      "cell_type": "code",
      "source": [],
      "metadata": {
        "id": "0W-nxh-wgZ-V"
      },
      "execution_count": 19,
      "outputs": []
    }
  ]
}